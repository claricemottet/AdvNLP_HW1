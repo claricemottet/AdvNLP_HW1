{
  "cells": [
    {
      "cell_type": "markdown",
      "metadata": {
        "id": "66hrP5h7ttNn"
      },
      "source": [
        "![bse_logo_textminingcourse](https://bse.eu/sites/default/files/bse_logo_small.png)\n",
        "\n",
        "# Advanced Methods in Natural Language Processing - Session 4\n",
        "\n",
        "# Text Classification with AG News Corpus\n",
        "\n",
        "This notebook will guide you through different approaches to text classification using the AG News corpus. We will start with a simple baseline model and gradually move towards more complex and sophisticated models.\n",
        "\n",
        "## Table of Contents\n",
        "\n",
        "1. **[Part 1: Baseline Pipeline with TF-IDF and Linear Model](#part1)**\n",
        "   - 1.1. Loading and Exploring Data\n",
        "   - 1.2. Feature Extraction with TF-IDF\n",
        "   - 1.3. Training a Linear Model\n",
        "   - 1.4. Model Evaluation\n",
        "\n",
        "2. **[Part 2: LSTM Pipeline with One-Hot Encoding](#part2)**\n",
        "   - 2.1. Preprocessing for LSTM\n",
        "   - 2.2. Building a Bidirectional LSTM Model\n",
        "   - 2.3. Training the LSTM Model\n",
        "   - 2.4. Model Evaluation\n",
        "\n",
        "3. **[Part 3: Word Embedding Add-Ons with Word2Vec](#part3)**\n",
        "   - 3.1. Loading Pre-trained Word2Vec Embeddings\n",
        "   - 3.2. Integrating Word2Vec into LSTM Model\n",
        "   - 3.3. Training and Evaluating the Model\n",
        "\n",
        "4. **[Part 4: Training Custom Embeddings with Gensim](#part4)**\n",
        "   - 4.1. Training Word2Vec/FastText with Gensim\n",
        "   - 4.2. Building a Model with Custom Embeddings\n",
        "   - 4.3. Model Training and Evaluation\n",
        "   - 4.4. Compar embeddings before / after finetuning"
      ]
    },
    {
      "cell_type": "markdown",
      "metadata": {
        "id": "Ab7s_m2RvmAh"
      },
      "source": [
        "## Part 0: Metrics Functions to Consider\n",
        "\n",
        "Before diving into the model building and training, it's crucial to establish the metrics we'll use to evaluate our models. In this part, we will define and discuss the different metrics functions that are commonly used in NLP tasks, particularly for text classification:\n",
        "\n",
        "1. **Accuracy**: Measures the proportion of correct predictions among the total number of cases examined. It's a straightforward metric but can be misleading if the classes are imbalanced.\n",
        "\n",
        "2. **Precision and Recall**: Precision measures the proportion of positive identifications that were actually correct, while recall measures the proportion of actual positives that were identified correctly. These metrics are especially important when dealing with imbalanced datasets.\n",
        "\n",
        "3. **F1 Score**: The harmonic mean of precision and recall. It's a good way to show that a classifer has a good balance between precision and recall.\n",
        "\n",
        "4. **Confusion Matrix**: A table used to describe the performance of a classification model on a set of test data for which the true values are known. It allows the visualization of the performance of an algorithm.\n",
        "\n",
        "5. **ROC and AUC**: The receiver operating characteristic curve is a graphical plot that illustrates the diagnostic ability of a binary classifier system. The area under the curve (AUC) represents measure of separability.\n",
        "\n",
        "We will implement these metrics functions using libraries such as scikit-learn, and they will be used to assess and compare the performance of our different models throughout this exercise."
      ]
    },
    {
      "cell_type": "code",
      "execution_count": null,
      "metadata": {
        "id": "vFvU7C3OwKA6"
      },
      "outputs": [],
      "source": [
        "import matplotlib.pyplot as plt\n",
        "import numpy as np\n",
        "from sklearn.metrics import precision_score, recall_score, f1_score, accuracy_score\n",
        "\n",
        "class Metrics:\n",
        "    def __init__(self):\n",
        "        self.results = {}\n",
        "\n",
        "    def run(self, y_true, y_pred, method_name, average='macro'):\n",
        "        # Calculate metrics\n",
        "        precision = precision_score(y_true, y_pred, average=average)\n",
        "        recall = recall_score(y_true, y_pred, average=average)\n",
        "        f1 = f1_score(y_true, y_pred, average=average)\n",
        "        accuracy = accuracy_score(y_true, y_pred)\n",
        "\n",
        "        # Store results\n",
        "        self.results[method_name] = {'precision': precision,\n",
        "                                     'recall': recall,\n",
        "                                     'accuracy':accuracy,\n",
        "                                     'f1': f1\n",
        "\n",
        "        }\n",
        "\n",
        "    def plot(self):\n",
        "        # Create subplots\n",
        "        fig, axs = plt.subplots(2, 2, figsize=(15, 10))\n",
        "\n",
        "        # Plot each metric\n",
        "        for i, metric in enumerate(['precision', 'recall', 'f1', 'accuracy']\n",
        "\n",
        "        ):\n",
        "            ax = axs[i//2, i%2]\n",
        "            values = [res[metric] * 100 for res in self.results.values()]\n",
        "            ax.bar(self.results.keys(), values)\n",
        "            ax.set_title(metric)\n",
        "            ax.set_ylim(0, 100)\n",
        "\n",
        "            # Add values on the bars\n",
        "            for j, v in enumerate(values):\n",
        "                ax.text(j, v + 0.02, f\"{v:.2f}\", ha='center', va='bottom')\n",
        "\n",
        "        plt.tight_layout()\n",
        "        plt.show()"
      ]
    },
    {
      "cell_type": "markdown",
      "metadata": {
        "id": "w7FZ8v7quizs"
      },
      "source": [
        "## Part 1: Baseline Pipeline with TF-IDF and Linear Model\n",
        "\n",
        "In this part, we will create a baseline model for text classification. This involves:"
      ]
    },
    {
      "cell_type": "markdown",
      "metadata": {
        "id": "sPqforMD2v6U"
      },
      "source": [
        "### 1. **Loading and Exploring Data**:\n",
        "\n",
        "We will load the AG News corpus and perform necessary preprocessing steps like exploring the dataset."
      ]
    },
    {
      "cell_type": "code",
      "execution_count": null,
      "metadata": {
        "colab": {
          "base_uri": "https://localhost:8080/"
        },
        "id": "DNcJl9m-vY-G",
        "outputId": "aa20a90c-e4fa-43af-ce6b-348f32a1375a"
      },
      "outputs": [
        {
          "name": "stdout",
          "output_type": "stream",
          "text": [
            "Collecting datasets\n",
            "  Downloading datasets-2.17.1-py3-none-any.whl (536 kB)\n",
            "\u001b[2K     \u001b[90m━━━━━━━━━━━━━━━━━━━━━━━━━━━━━━━━━━━━━━━━\u001b[0m \u001b[32m536.7/536.7 kB\u001b[0m \u001b[31m7.1 MB/s\u001b[0m eta \u001b[36m0:00:00\u001b[0m\n",
            "\u001b[?25hRequirement already satisfied: filelock in /usr/local/lib/python3.10/dist-packages (from datasets) (3.13.1)\n",
            "Requirement already satisfied: numpy>=1.17 in /usr/local/lib/python3.10/dist-packages (from datasets) (1.25.2)\n",
            "Requirement already satisfied: pyarrow>=12.0.0 in /usr/local/lib/python3.10/dist-packages (from datasets) (14.0.2)\n",
            "Requirement already satisfied: pyarrow-hotfix in /usr/local/lib/python3.10/dist-packages (from datasets) (0.6)\n",
            "Collecting dill<0.3.9,>=0.3.0 (from datasets)\n",
            "  Downloading dill-0.3.8-py3-none-any.whl (116 kB)\n",
            "\u001b[2K     \u001b[90m━━━━━━━━━━━━━━━━━━━━━━━━━━━━━━━━━━━━━━━━\u001b[0m \u001b[32m116.3/116.3 kB\u001b[0m \u001b[31m10.9 MB/s\u001b[0m eta \u001b[36m0:00:00\u001b[0m\n",
            "\u001b[?25hRequirement already satisfied: pandas in /usr/local/lib/python3.10/dist-packages (from datasets) (1.5.3)\n",
            "Requirement already satisfied: requests>=2.19.0 in /usr/local/lib/python3.10/dist-packages (from datasets) (2.31.0)\n",
            "Requirement already satisfied: tqdm>=4.62.1 in /usr/local/lib/python3.10/dist-packages (from datasets) (4.66.2)\n",
            "Requirement already satisfied: xxhash in /usr/local/lib/python3.10/dist-packages (from datasets) (3.4.1)\n",
            "Collecting multiprocess (from datasets)\n",
            "  Downloading multiprocess-0.70.16-py310-none-any.whl (134 kB)\n",
            "\u001b[2K     \u001b[90m━━━━━━━━━━━━━━━━━━━━━━━━━━━━━━━━━━━━━━━━\u001b[0m \u001b[32m134.8/134.8 kB\u001b[0m \u001b[31m11.7 MB/s\u001b[0m eta \u001b[36m0:00:00\u001b[0m\n",
            "\u001b[?25hRequirement already satisfied: fsspec[http]<=2023.10.0,>=2023.1.0 in /usr/local/lib/python3.10/dist-packages (from datasets) (2023.6.0)\n",
            "Requirement already satisfied: aiohttp in /usr/local/lib/python3.10/dist-packages (from datasets) (3.9.3)\n",
            "Requirement already satisfied: huggingface-hub>=0.19.4 in /usr/local/lib/python3.10/dist-packages (from datasets) (0.20.3)\n",
            "Requirement already satisfied: packaging in /usr/local/lib/python3.10/dist-packages (from datasets) (23.2)\n",
            "Requirement already satisfied: pyyaml>=5.1 in /usr/local/lib/python3.10/dist-packages (from datasets) (6.0.1)\n",
            "Requirement already satisfied: aiosignal>=1.1.2 in /usr/local/lib/python3.10/dist-packages (from aiohttp->datasets) (1.3.1)\n",
            "Requirement already satisfied: attrs>=17.3.0 in /usr/local/lib/python3.10/dist-packages (from aiohttp->datasets) (23.2.0)\n",
            "Requirement already satisfied: frozenlist>=1.1.1 in /usr/local/lib/python3.10/dist-packages (from aiohttp->datasets) (1.4.1)\n",
            "Requirement already satisfied: multidict<7.0,>=4.5 in /usr/local/lib/python3.10/dist-packages (from aiohttp->datasets) (6.0.5)\n",
            "Requirement already satisfied: yarl<2.0,>=1.0 in /usr/local/lib/python3.10/dist-packages (from aiohttp->datasets) (1.9.4)\n",
            "Requirement already satisfied: async-timeout<5.0,>=4.0 in /usr/local/lib/python3.10/dist-packages (from aiohttp->datasets) (4.0.3)\n",
            "Requirement already satisfied: typing-extensions>=3.7.4.3 in /usr/local/lib/python3.10/dist-packages (from huggingface-hub>=0.19.4->datasets) (4.9.0)\n",
            "Requirement already satisfied: charset-normalizer<4,>=2 in /usr/local/lib/python3.10/dist-packages (from requests>=2.19.0->datasets) (3.3.2)\n",
            "Requirement already satisfied: idna<4,>=2.5 in /usr/local/lib/python3.10/dist-packages (from requests>=2.19.0->datasets) (3.6)\n",
            "Requirement already satisfied: urllib3<3,>=1.21.1 in /usr/local/lib/python3.10/dist-packages (from requests>=2.19.0->datasets) (2.0.7)\n",
            "Requirement already satisfied: certifi>=2017.4.17 in /usr/local/lib/python3.10/dist-packages (from requests>=2.19.0->datasets) (2024.2.2)\n",
            "Requirement already satisfied: python-dateutil>=2.8.1 in /usr/local/lib/python3.10/dist-packages (from pandas->datasets) (2.8.2)\n",
            "Requirement already satisfied: pytz>=2020.1 in /usr/local/lib/python3.10/dist-packages (from pandas->datasets) (2023.4)\n",
            "Requirement already satisfied: six>=1.5 in /usr/local/lib/python3.10/dist-packages (from python-dateutil>=2.8.1->pandas->datasets) (1.16.0)\n",
            "Installing collected packages: dill, multiprocess, datasets\n",
            "Successfully installed datasets-2.17.1 dill-0.3.8 multiprocess-0.70.16\n"
          ]
        }
      ],
      "source": [
        "!pip install datasets"
      ]
    },
    {
      "cell_type": "code",
      "execution_count": null,
      "metadata": {
        "colab": {
          "base_uri": "https://localhost:8080/",
          "referenced_widgets": [
            "fcc11faa59084c7795566ce051840c3b",
            "7505b1cb49ea4dd8bdb83c4d45715d40",
            "2395b2f8880d4792a9d94b18c8b4fcf3",
            "a81fa1677bc142679c4a03d88c2b94a2"
          ]
        },
        "id": "KrJTmiYZzaR9",
        "outputId": "e0a227c0-a436-48b1-d9c8-703b461dcf44"
      },
      "outputs": [
        {
          "name": "stderr",
          "output_type": "stream",
          "text": [
            "/usr/local/lib/python3.10/dist-packages/huggingface_hub/utils/_token.py:88: UserWarning: \n",
            "The secret `HF_TOKEN` does not exist in your Colab secrets.\n",
            "To authenticate with the Hugging Face Hub, create a token in your settings tab (https://huggingface.co/settings/tokens), set it as secret in your Google Colab and restart your session.\n",
            "You will be able to reuse this secret in all of your notebooks.\n",
            "Please note that authentication is recommended but still optional to access public models or datasets.\n",
            "  warnings.warn(\n"
          ]
        },
        {
          "data": {
            "application/vnd.jupyter.widget-view+json": {
              "model_id": "fcc11faa59084c7795566ce051840c3b",
              "version_major": 2,
              "version_minor": 0
            },
            "text/plain": [
              "Downloading data:   0%|          | 0.00/18.6M [00:00<?, ?B/s]"
            ]
          },
          "metadata": {},
          "output_type": "display_data"
        },
        {
          "data": {
            "application/vnd.jupyter.widget-view+json": {
              "model_id": "7505b1cb49ea4dd8bdb83c4d45715d40",
              "version_major": 2,
              "version_minor": 0
            },
            "text/plain": [
              "Downloading data:   0%|          | 0.00/1.23M [00:00<?, ?B/s]"
            ]
          },
          "metadata": {},
          "output_type": "display_data"
        },
        {
          "data": {
            "application/vnd.jupyter.widget-view+json": {
              "model_id": "2395b2f8880d4792a9d94b18c8b4fcf3",
              "version_major": 2,
              "version_minor": 0
            },
            "text/plain": [
              "Generating train split:   0%|          | 0/120000 [00:00<?, ? examples/s]"
            ]
          },
          "metadata": {},
          "output_type": "display_data"
        },
        {
          "data": {
            "application/vnd.jupyter.widget-view+json": {
              "model_id": "a81fa1677bc142679c4a03d88c2b94a2",
              "version_major": 2,
              "version_minor": 0
            },
            "text/plain": [
              "Generating test split:   0%|          | 0/7600 [00:00<?, ? examples/s]"
            ]
          },
          "metadata": {},
          "output_type": "display_data"
        },
        {
          "name": "stdout",
          "output_type": "stream",
          "text": [
            "DatasetDict({\n",
            "    train: Dataset({\n",
            "        features: ['text', 'label'],\n",
            "        num_rows: 120000\n",
            "    })\n",
            "    test: Dataset({\n",
            "        features: ['text', 'label'],\n",
            "        num_rows: 7600\n",
            "    })\n",
            "})\n"
          ]
        }
      ],
      "source": [
        "from datasets import load_dataset\n",
        "\n",
        "# Load the 'ag_news' dataset\n",
        "dataset = load_dataset(\"ag_news\")\n",
        "\n",
        "# Explore the structure of the dataset\n",
        "print(dataset)"
      ]
    },
    {
      "cell_type": "markdown",
      "metadata": {
        "id": "CzVwWxcjzgNy"
      },
      "source": [
        "Let's create stratified samples for training and validation sets ensuring that each class is represented in proportion to its frequency. It will go faster with just a sample, and we will be able to make tests on validation test before trying to work on the testing set."
      ]
    },
    {
      "cell_type": "code",
      "execution_count": null,
      "metadata": {
        "id": "qrRvFzrGzdAx"
      },
      "outputs": [],
      "source": [
        "from sklearn.model_selection import train_test_split\n",
        "\n",
        "data = dataset['train']['text']\n",
        "labels = dataset['train']['label']\n",
        "\n",
        "test_data = dataset['test']['text']\n",
        "test_labels = dataset['test']['label']\n",
        "\n",
        "# Stratified split to create a smaller training and validation set\n",
        "train_data, valid_data, train_labels, valid_labels = train_test_split(\n",
        "    data, labels, stratify=labels, test_size=0.2, random_state=42\n",
        ")\n",
        "\n",
        "# Further split to get 10k and 2k samples respectively\n",
        "train_data, _, train_labels, _ = train_test_split(\n",
        "    train_data, train_labels, stratify=train_labels, train_size=10000, random_state=42\n",
        ")\n",
        "valid_data, _, valid_labels, _ = train_test_split(\n",
        "    valid_data, valid_labels, stratify=valid_labels, train_size=2000, random_state=42\n",
        ")"
      ]
    },
    {
      "cell_type": "code",
      "execution_count": null,
      "metadata": {
        "colab": {
          "base_uri": "https://localhost:8080/"
        },
        "id": "HXWQzYN91YDA",
        "outputId": "2dc02b30-730f-46ae-fd7e-f4ad345d2a5d"
      },
      "outputs": [
        {
          "name": "stderr",
          "output_type": "stream",
          "text": [
            "[nltk_data] Downloading package stopwords to /root/nltk_data...\n",
            "[nltk_data]   Unzipping corpora/stopwords.zip.\n"
          ]
        }
      ],
      "source": [
        "from wordcloud import WordCloud\n",
        "import matplotlib.pyplot as plt\n",
        "from collections import defaultdict\n",
        "import nltk\n",
        "from nltk.corpus import stopwords\n",
        "\n",
        "nltk.download('stopwords')\n",
        "stop_words = set(stopwords.words('english'))\n",
        "\n",
        "labels = {0: 'World', 1: 'Sports',\n",
        "          2: 'Business', 3: 'Sci/Tech'}\n",
        "\n",
        "# Prepare data for wordclouds\n",
        "\n",
        "\n",
        "# Generate and plot wordclouds for each label\n"
      ]
    },
    {
      "cell_type": "code",
      "execution_count": null,
      "metadata": {
        "colab": {
          "base_uri": "https://localhost:8080/"
        },
        "id": "bTITVZia2aTG",
        "outputId": "76044e9f-0a65-4941-9148-7024b3bb8d31"
      },
      "outputs": [
        {
          "data": {
            "image/png": "[encoded data removed]",
            "text/plain": [
              "<Figure size 640x480 with 1 Axes>"
            ]
          },
          "metadata": {},
          "output_type": "display_data"
        }
      ],
      "source": [
        "from collections import Counter\n",
        "import matplotlib.pyplot as plt\n",
        "\n",
        "# Count the frequency of each label\n",
        "label_counts = Counter(train_labels)\n",
        "\n",
        "# Data to plot\n",
        "_labels = [labels.get(lab) for lab in label_counts.keys()]\n",
        "sizes = label_counts.values()\n",
        "colors = ['gold', 'yellowgreen', 'lightcoral', 'lightskyblue']\n",
        "\n",
        "# Plotting the pie chart\n",
        "plt.pie(sizes, labels=_labels, colors=colors, autopct='%1.1f%%', startangle=140)\n",
        "plt.axis('equal')  # Equal aspect ratio ensures that pie is drawn as a circle.\n",
        "plt.title('Proportion of Each Label')\n",
        "plt.show()\n"
      ]
    },
    {
      "cell_type": "markdown",
      "metadata": {
        "id": "HJl2q_rlvZGK"
      },
      "source": [
        "### 2. **Feature Extraction with TF-IDF**:\n",
        "\n",
        "We will convert the text data into numerical form using the TF-IDF vectorization technique. We will use the `Pipeline` class from scikit-learn which is really practical."
      ]
    },
    {
      "cell_type": "code",
      "execution_count": null,
      "metadata": {
        "id": "CdthwJiTueEE"
      },
      "outputs": [],
      "source": [
        "from sklearn.feature_extraction.text import TfidfVectorizer\n",
        "from sklearn.linear_model import LogisticRegression\n",
        "from sklearn.pipeline import Pipeline\n",
        "\n",
        "# Create a pipeline with TF-IDF and Logistic Regression\n",
        "\n",
        "\n",
        "# Fit the pipeline on the training data"
      ]
    },
    {
      "cell_type": "code",
      "execution_count": null,
      "metadata": {
        "id": "BFknIrrF4TW9"
      },
      "outputs": [],
      "source": [
        "# Look at metrics\n"
      ]
    },
    {
      "cell_type": "markdown",
      "metadata": {
        "id": "TEaSlme-vagC"
      },
      "source": [
        "### 3. **Training with Cross Validation**:\n",
        "\n",
        "We will train a linear classifier (such as Logistic Regression) using the extracted features, `Pipeline` module and cross validation with `GridSearchCV`."
      ]
    },
    {
      "cell_type": "code",
      "execution_count": null,
      "metadata": {
        "id": "d2R52Bt5vcmB"
      },
      "outputs": [],
      "source": [
        "from sklearn.model_selection import GridSearchCV\n",
        "\n",
        "# Define the parameter gri\n",
        "\n",
        "# Create a GridSearchCV object\n",
        "\n",
        "# Fit the grid search to the data\n",
        "\n",
        "\n",
        "# Best parameters found by grid search\n",
        "print(f'Best Parameters: {grid_search.best_params_}')\n",
        "\n",
        "# Evaluate on the validation set\n"
      ]
    },
    {
      "cell_type": "markdown",
      "metadata": {
        "id": "IwwFma1dvcsd"
      },
      "source": [
        "### 4. **Model Evaluation**:\n",
        "\n",
        "We will evaluate the performance of our model on a separate test set using various metrics."
      ]
    },
    {
      "cell_type": "code",
      "execution_count": null,
      "metadata": {
        "id": "nAxJ_28MvanR"
      },
      "outputs": [],
      "source": [
        "metrics_val.plot()"
      ]
    },
    {
      "cell_type": "markdown",
      "metadata": {
        "id": "c4eZdme7vokh"
      },
      "source": [
        "## Part 2: LSTM Pipeline with One-Hot Encoding\n",
        "\n",
        "In this part, we'll explore a more complex model using LSTM:"
      ]
    },
    {
      "cell_type": "markdown",
      "metadata": {
        "id": "yndnfwXa8qQC"
      },
      "source": [
        "### 1. **Preprocessing for LSTM**:\n",
        "\n",
        "We'll prepare the text data for LSTM, which involves tokenization and converting words to one-hot encoded vectors."
      ]
    },
    {
      "cell_type": "code",
      "execution_count": null,
      "metadata": {
        "id": "tHsnsGm48qc9"
      },
      "outputs": [],
      "source": [
        "from tensorflow.keras.preprocessing.text import Tokenizer\n",
        "from tensorflow.keras.preprocessing.sequence import pad_sequences\n",
        "from tensorflow.keras.utils import to_categorical\n",
        "\n",
        "# Parameters\n",
        "\n",
        "\n",
        "# Initialize and fit the tokenizer\n",
        "\n",
        "\n",
        "# Convert texts to sequences of integers\n",
        "\n",
        "\n",
        "# Pad sequences to the same length\n",
        "\n",
        "\n",
        "\n",
        "# Assuming train_labels are integer labels\n",
        "\n",
        "\n",
        "# Convert labels to one-hot vectors\n"
      ]
    },
    {
      "cell_type": "markdown",
      "metadata": {
        "id": "6v-l49eA8qp-"
      },
      "source": [
        "### 2. **Building a Bidirectional LSTM Model**:\n",
        "\n",
        "We'll design a neural network with a Bidirectional LSTM layer to capture context from both directions in the text."
      ]
    },
    {
      "cell_type": "code",
      "execution_count": null,
      "metadata": {
        "id": "27WvWMEo8q2-"
      },
      "outputs": [],
      "source": [
        "from tensorflow.keras.models import Sequential\n",
        "from tensorflow.keras.layers import Embedding, LSTM, Bidirectional, Dense\n",
        "from tensorflow.keras.metrics import Precision, Recall\n",
        "\n",
        "# Build a LSTM network\n",
        "\n",
        "model.summary()"
      ]
    },
    {
      "cell_type": "markdown",
      "metadata": {
        "id": "RvxIuYkb8rDo"
      },
      "source": [
        "### 3. **Training the LSTM Model**:\n",
        "\n",
        "We'll train our LSTM model on the preprocessed text data.\n"
      ]
    },
    {
      "cell_type": "code",
      "execution_count": null,
      "metadata": {
        "id": "2BTowIVP8rRL"
      },
      "outputs": [],
      "source": [
        "#train the model\n"
      ]
    },
    {
      "cell_type": "markdown",
      "metadata": {
        "id": "_jo6_aZh81lt"
      },
      "source": [
        "### 4. **Model Evaluation**:\n",
        "\n",
        "*Similar* to Part 1, we will evaluate our model's performance using appropriate metrics.\n"
      ]
    },
    {
      "cell_type": "code",
      "execution_count": null,
      "metadata": {
        "id": "30qA_9FCtntO"
      },
      "outputs": [],
      "source": [
        "#predictions\n",
        "\n",
        "# add metrics\n"
      ]
    },
    {
      "cell_type": "code",
      "execution_count": null,
      "metadata": {
        "id": "GauRhtEfE5Vw"
      },
      "outputs": [],
      "source": [
        "metrics_val.plot()"
      ]
    },
    {
      "cell_type": "markdown",
      "metadata": {
        "id": "pECtNMJ5vpoh"
      },
      "source": [
        "## Part 3: Word Embedding Add-Ons with Word2Vec\n",
        "\n",
        "This part focuses on integrating pre-trained word embeddings into our model."
      ]
    },
    {
      "cell_type": "markdown",
      "metadata": {
        "id": "CStwSkObFFne"
      },
      "source": [
        "## 1. **Loading Pre-trained Word2Vec Embeddings**:\n",
        "\n",
        "We'll load Word2Vec embeddings pre-trained on a large corpus."
      ]
    },
    {
      "cell_type": "code",
      "execution_count": null,
      "metadata": {
        "id": "dGMnHbICFCMA"
      },
      "outputs": [],
      "source": [
        "import gensim.downloader as api\n",
        "\n",
        "# Download the model\n",
        "word2vec_model = api.load(\"word2vec-google-news-300\")\n",
        "\n",
        "# Check that it's been downloaded\n",
        "print(word2vec_model)"
      ]
    },
    {
      "cell_type": "markdown",
      "metadata": {
        "id": "FJZNdvmpFCeS"
      },
      "source": [
        "## 2. **Integrating Word2Vec into LSTM Model**:\n",
        "We'll use these embeddings as inputs to our LSTM model, potentially enhancing its ability to understand context and semantics."
      ]
    },
    {
      "cell_type": "code",
      "execution_count": null,
      "metadata": {
        "id": "BjOCkI44FCxc"
      },
      "outputs": [],
      "source": [
        "import numpy as np\n",
        "\n",
        "# Initialize the embedding matrix\n",
        "\n",
        "\n",
        "# Define the model\n",
        "\n",
        "\n",
        "model.summary()"
      ]
    },
    {
      "cell_type": "markdown",
      "metadata": {
        "id": "Ev7ioVYxFDC1"
      },
      "source": [
        "## 3. **Training and Evaluating the Model**:\n",
        "We'll train our model with these new embeddings and evaluate to see if there's an improvement in performance."
      ]
    },
    {
      "cell_type": "code",
      "execution_count": null,
      "metadata": {
        "colab": {
          "background_save": true
        },
        "id": "a96kqkopFDUX"
      },
      "outputs": [],
      "source": [
        "from tensorflow.keras.callbacks import EarlyStopping\n",
        "\n",
        "# Setup early stopping to stop training when validation loss stops improving\n",
        "\n",
        "\n",
        "# Train the model\n"
      ]
    },
    {
      "cell_type": "markdown",
      "metadata": {
        "id": "pHa1yN24GWHU"
      },
      "source": [
        "## 4. **Model Evaluation**:\n",
        "\n",
        "Similar to previous parts, we will evaluate our model's performance using appropriate metrics.\n"
      ]
    },
    {
      "cell_type": "code",
      "execution_count": null,
      "metadata": {
        "colab": {
          "background_save": true
        },
        "id": "p2xTLGFwvs8a"
      },
      "outputs": [],
      "source": [
        "# get predictions\n",
        "\n",
        "#looks at metrics\n"
      ]
    },
    {
      "cell_type": "markdown",
      "metadata": {
        "id": "0xASMzlbvtgF"
      },
      "source": [
        "## Part 4: Training Custom Embeddings with Gensim\n",
        "\n",
        "In this final part, we'll train our own word embeddings using the Gensim library:"
      ]
    },
    {
      "cell_type": "markdown",
      "metadata": {
        "id": "Gl_z2OKNNmEV"
      },
      "source": [
        "### 1. **Training Word2Vec/FastText with Gensim**:\n",
        "\n",
        "We'll use the Gensim library to train Word2Vec or FastText embeddings on our corpus."
      ]
    },
    {
      "cell_type": "code",
      "execution_count": null,
      "metadata": {
        "id": "ygk6JRBWNmnT"
      },
      "outputs": [],
      "source": [
        "from gensim.models import Word2Vec\n",
        "\n",
        "# Initialize model\n",
        "\n",
        "# Build vocabulary from your corpus\n",
        "\n",
        "\n",
        "# Update vocabulary with pre-trained model\n",
        "\n",
        "\n",
        "\n",
        "# Fine-tune the model on your data\n"
      ]
    },
    {
      "cell_type": "markdown",
      "metadata": {
        "id": "2giFhtJlNm56"
      },
      "source": [
        "### 2. **Building a Model with Custom Embeddings**:\n",
        "\n",
        "We'll integrate these custom-trained embeddings into a new LSTM model."
      ]
    },
    {
      "cell_type": "code",
      "execution_count": null,
      "metadata": {
        "id": "OgD7gZC7YbvC"
      },
      "outputs": [],
      "source": [
        "# Initialize the embedding matrix\n",
        "\n",
        "\n",
        "# Fill in the matrix\n",
        "\n",
        "\n",
        "# Build the model\n",
        "\n",
        "model.summary()"
      ]
    },
    {
      "cell_type": "markdown",
      "metadata": {
        "id": "Rd2Np3eoNncb"
      },
      "source": [
        "### 3. **Model Training and Evaluation**:\n",
        "\n",
        "We'll train this model and evaluate its performance, comparing it with the models from previous parts.\n"
      ]
    },
    {
      "cell_type": "code",
      "execution_count": null,
      "metadata": {
        "id": "YlM81lpcNnu_"
      },
      "outputs": [],
      "source": [
        "from tensorflow.keras.callbacks import EarlyStopping\n",
        "\n",
        "# Setup early stopping to stop training when validation loss stops improving\n",
        "\n",
        "\n",
        "\n",
        "# Train the model\n"
      ]
    },
    {
      "cell_type": "code",
      "execution_count": null,
      "metadata": {
        "id": "oIwhdh9la07M"
      },
      "outputs": [],
      "source": [
        "# Get the predictions\n",
        "\n",
        "# Add metrics\n"
      ]
    },
    {
      "cell_type": "markdown",
      "metadata": {
        "id": "b6TYVpqONn_t"
      },
      "source": [
        "### 4. Compare the embedding\n",
        "\n",
        "We'll plot the embeddings after and before we fine-tuned on our dataset.\n",
        "\n",
        "**Select Words for Visualization**\n",
        "\n",
        "First, select a subset of words that you want to visualize. It's often insightful to choose words that are thematically related or words for which you expect interesting relationships or changes due to fine-tuning."
      ]
    },
    {
      "cell_type": "code",
      "execution_count": null,
      "metadata": {
        "id": "HuRQoCCKNoRG"
      },
      "outputs": [],
      "source": [
        "# List of words you want to visualize\n",
        "words = ['compagny', 'news', 'game', 'win', 'kill', 'software', 'share', 'official']\n",
        "\n",
        "# Extract their vectors from your model\n",
        "word_vectors = np.array([my_model.wv[word] for word in words if word in my_model.wv])\n",
        "w2v = np.array([word2vec_model[word] for word in words if word in word2vec_model])"
      ]
    },
    {
      "cell_type": "markdown",
      "metadata": {
        "id": "r1bDu2O2cAEu"
      },
      "source": [
        "**Apply t-SNE to Reduce Dimensionality**\n",
        "\n",
        "Use t-SNE to reduce the dimensionality of the word vectors to 2D for plotting. t-SNE is available through the sklearn.manifold module."
      ]
    },
    {
      "cell_type": "code",
      "execution_count": null,
      "metadata": {
        "id": "fYolQSzOvvAY"
      },
      "outputs": [],
      "source": [
        "from sklearn.manifold import TSNE\n",
        "\n",
        "# Apply t-SNE to word vectors\n",
        "tsne = TSNE(n_components=2, random_state=0)\n",
        "word_vectors_2d = tsne.fit_transform(word_vectors)\n",
        "w2v_vectors_2d = tsne.transform(w2v)"
      ]
    },
    {
      "cell_type": "code",
      "execution_count": null,
      "metadata": {
        "id": "IKcc2Nj9b8uy"
      },
      "outputs": [],
      "source": [
        "import matplotlib.pyplot as plt\n",
        "\n",
        "plt.figure(figsize=(10, 10))\n",
        "# Scatter plot for the word vectors\n",
        "plt.scatter(word_vectors_2d[:, 0], word_vectors_2d[:, 1], label='fine-tuned w2v')\n",
        "plt.scatter(w2v_vectors_2d[:, 0], w2v_vectors_2d[:, 1], label='w2v')\n",
        "\n",
        "# Annotate each point in the scatter plot\n",
        "for i, word in enumerate(words):\n",
        "    if word in my_model.wv:\n",
        "        plt.annotate(word, xy=(word_vectors_2d[i, 0], word_vectors_2d[i, 1]))\n",
        "        plt.annotate(word, xy=(w2v_vectors_2d[i, 0], w2v_vectors_2d[i, 1]))\n",
        "\n",
        "plt.show()\n"
      ]
    }
  ],
  "metadata": {
    "colab": {
      "provenance": []
    },
    "kernelspec": {
      "display_name": "Python 3",
      "name": "python3"
    },
    "language_info": {
      "name": "python"
    }
  },
  "nbformat": 4,
  "nbformat_minor": 0
}
